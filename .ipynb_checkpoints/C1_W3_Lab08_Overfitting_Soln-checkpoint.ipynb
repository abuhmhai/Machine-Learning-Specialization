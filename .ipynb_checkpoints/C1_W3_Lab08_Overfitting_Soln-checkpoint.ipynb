{
 "cells": [
  {
   "cell_type": "markdown",
   "id": "d21066c8",
   "metadata": {},
   "source": [
    "# Ungraded Lab:  Overfitting \n",
    "\n",
    "<img align=\"left\" src=\"./images/C1_W3_Overfitting_a.png\"     style=\" width:250px; padding: 10px; \" >\n",
    "<img align=\"left\" src=\"./images/C1_W3_Overfitting_b.png\"     style=\" width:250px; padding: 10px; \" >\n",
    "<img align=\"left\" src=\"./images/C1_W3_Overfitting_c.png\"     style=\" width:250px; padding: 10px; \" >"
   ]
  },
  {
   "cell_type": "markdown",
   "id": "7b94a476",
   "metadata": {},
   "source": [
    "## Mục tiêu\n",
    "\n",
    "Trong phòng thí nghiệm này, bạn sẽ khám phá:\n",
    "\n",
    "- những tình huống mà việc quá tải có thể xảy ra\n",
    "\n",
    "- một số giải pháp"
   ]
  },
  {
   "cell_type": "code",
   "execution_count": null,
   "id": "d72603ae",
   "metadata": {},
   "outputs": [],
   "source": [
    "%matplotlib widget\n",
    "import matplotlib.pyplot as plt\n",
    "from ipywidgets import Output\n",
    "from plt_overfit import overfit_example, output\n",
    "plt.style.use('./deeplearning.mplstyle')"
   ]
  },
  {
   "cell_type": "markdown",
   "id": "755432e8",
   "metadata": {},
   "source": [
    "# Quá phù hợp\n",
    "\n",
    "Bài giảng trong tuần đã mô tả các tình huống có thể phát sinh tình trạng quá tải. Chạy ô bên dưới để tạo ra một âm mưu cho phép bạn khám phá sự phù hợp quá mức. Có thêm hướng dẫn bên dưới ô."
   ]
  },
  {
   "cell_type": "code",
   "execution_count": null,
   "id": "2d66d3ab",
   "metadata": {},
   "outputs": [],
   "source": [
    "plt.close(\"all\")\n",
    "display(output)\n",
    "ofit = overfit_example(False)"
   ]
  },
  {
   "cell_type": "markdown",
   "id": "80658f8a",
   "metadata": {},
   "source": [
    "Trong cốt truyện ở trên bạn có thể:\n",
    "\n",
    "- chuyển đổi giữa các ví dụ Hồi quy và Phân loại\n",
    "\n",
    "- thêm dữ liệu\n",
    "\n",
    "- chọn mức độ của mô hình\n",
    "\n",
    "- phù hợp với mô hình với dữ liệu\n",
    "\n",
    "Đây là một số điều bạn nên thử:\n",
    "\n",
    "- Phù hợp với dữ liệu với mức độ = 1; Lưu ý 'không phù hợp'.\n",
    "\n",
    "- Phù hợp với dữ liệu với độ = 6; Lưu ý 'overfitting'\n",
    "\n",
    "- điều chỉnh mức độ để có được 'phức độ phù hợp nhất'\n",
    "\n",
    "- thêm dữ liệu:\n",
    "\n",
    "- các ví dụ cực đoan có thể làm tăng sự phù hợp quá mức (giả sử chúng là ngoại lệ).\n",
    "\n",
    "- các ví dụ danh nghĩa có thể làm giảm sự phù hợp quá mức\n",
    "\n",
    "- chuyển đổi giữa `Regression` và `Categorical` để thử cả hai ví dụ.\n",
    "\n",
    "Để đặt lại âm mưu, hãy chạy lại ô. Nhấp từ từ để cho phép cốt truyện cập nhật trước khi nhận được nhấp chuột tiếp theo.\n",
    "\n",
    "Ghi chú về việc triển khai:\n",
    "\n",
    "- các đường cong 'lý tưởng' đại diện cho mô hình máy phát điện mà tiếng ồn đã được thêm vào để đạt được tập dữ liệu\n",
    "\n",
    "- 'phù hợp' không sử dụng độ dốc thuần túy để cải thiện tốc độ. Những phương pháp này có thể được sử dụng trên các tập dữ liệu nhỏ hơn."
   ]
  },
  {
   "cell_type": "markdown",
   "id": "16ed21a4",
   "metadata": {},
   "source": [
    "## Congratulations!\n",
    "You have developed some intuition about the causes and solutions to overfitting. In the next lab, you will explore a commonly used solution, Regularization."
   ]
  },
  {
   "cell_type": "code",
   "execution_count": null,
   "id": "89184e41",
   "metadata": {},
   "outputs": [],
   "source": []
  }
 ],
 "metadata": {
  "kernelspec": {
   "display_name": "Python 3 (ipykernel)",
   "language": "python",
   "name": "python3"
  },
  "language_info": {
   "codemirror_mode": {
    "name": "ipython",
    "version": 3
   },
   "file_extension": ".py",
   "mimetype": "text/x-python",
   "name": "python",
   "nbconvert_exporter": "python",
   "pygments_lexer": "ipython3",
   "version": "3.11.5"
  }
 },
 "nbformat": 4,
 "nbformat_minor": 5
}
