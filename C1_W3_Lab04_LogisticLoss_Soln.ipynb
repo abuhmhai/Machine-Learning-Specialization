{
 "cells": [
  {
   "cell_type": "markdown",
   "metadata": {},
   "source": [
    "# Phòng thí nghiệm tùy chọn: Hồi quy hậu cần, Mất hậu cần\n",
    "\n",
    "Trong phòng thí nghiệm chưa được phân loại này, bạn sẽ:\n",
    "\n",
    "- khám phá lý do mất lỗi bình phương không thích hợp cho hồi quy logistic\n",
    "\n",
    "- khám phá chức năng tổn thất hậu cần"
   ]
  },
  {
   "cell_type": "code",
   "execution_count": 1,
   "metadata": {},
   "outputs": [],
   "source": [
    "import numpy as np\n",
    "%matplotlib widget\n",
    "import matplotlib.pyplot as plt\n",
    "from plt_logistic_loss import  plt_logistic_cost, plt_two_logistic_loss_curves, plt_simple_example\n",
    "from plt_logistic_loss import soup_bowl, plt_logistic_squared_error\n",
    "plt.style.use('./deeplearning.mplstyle')"
   ]
  },
  {
   "cell_type": "markdown",
   "metadata": {},
   "source": [
    "## Lỗi bình phương cho hồi quy logistic?\n",
    "\n",
    "<img align=\"left\" src=\"./images/C1_W3_SqErrorVsLogistic.png\" style=\" width:400px; padding: 10px; \" > Nhớ lại cho **Linear** Hồi quy** chúng tôi đã sử dụng hàm chi phí lỗi bình phương ****:\n",
    "\n",
    "Phương trình cho chi phí lỗi bình phương với một biến là:\n",
    "\n",
    "$$J(w,b) = \\frac{1}{2m} \\sum\\limits_{i = 0}^{m-1} (f_{w,b}(x^{(i)}) - y^{(i)})^2 \\tag{1}$$\n",
    "\n",
    "Ở đâu\n",
    "\n",
    "$$f_{w,b}(x^{(i)}) = wx^{(i)} + b \\tag{2}$$"
   ]
  },
  {
   "cell_type": "markdown",
   "metadata": {},
   "source": [
    "Nhớ lại, chi phí lỗi bình phương có tài sản tốt đẹp mà theo sau đạo hàm của chi phí dẫn đến mức tối thiểu."
   ]
  },
  {
   "cell_type": "code",
   "execution_count": 2,
   "metadata": {},
   "outputs": [
    {
     "data": {
      "application/vnd.jupyter.widget-view+json": {
       "model_id": "503c3161a6414b0ca100a0ee83dae540",
       "version_major": 2,
       "version_minor": 0
      },
      "text/plain": [
       "Canvas(toolbar=Toolbar(toolitems=[('Home', 'Reset original view', 'home', 'home'), ('Back', 'Back to previous …"
      ]
     },
     "metadata": {},
     "output_type": "display_data"
    }
   ],
   "source": [
    "soup_bowl()"
   ]
  },
  {
   "cell_type": "markdown",
   "metadata": {},
   "source": [
    "Hàm chi phí này hoạt động tốt đối với hồi quy tuyến tính, việc xem xét nó đối với hồi quy logistic cũng là điều tự nhiên. Tuy nhiên, như trang trình bày ở trên chỉ ra, $f_{wb}(x)$ hiện có một thành phần phi tuyến tính, hàm sigmoid: $f_{w,b}(x^{(i)}) = sigmoid(wx^{(i)} + b )$. Hãy thử một chi phí lỗi bình phương trên ví dụ từ một phòng thí nghiệm trước đó, bây giờ bao gồm cả sigmoid.\n",
    "\n",
    "Đây là dữ liệu đào tạo của chúng tôi:"
   ]
  },
  {
   "cell_type": "code",
   "execution_count": 3,
   "metadata": {},
   "outputs": [
    {
     "data": {
      "application/vnd.jupyter.widget-view+json": {
       "model_id": "f5a60e869f1c41c7b5d62f8cd07f1743",
       "version_major": 2,
       "version_minor": 0
      },
      "text/plain": [
       "Canvas(toolbar=Toolbar(toolitems=[('Home', 'Reset original view', 'home', 'home'), ('Back', 'Back to previous …"
      ]
     },
     "metadata": {},
     "output_type": "display_data"
    }
   ],
   "source": [
    "x_train = np.array([0., 1, 2, 3, 4, 5],dtype=np.longdouble)\n",
    "y_train = np.array([0,  0, 0, 1, 1, 1],dtype=np.longdouble)\n",
    "plt_simple_example(x_train, y_train)"
   ]
  },
  {
   "cell_type": "markdown",
   "metadata": {},
   "source": [
    "Now, let's get a surface plot of the cost using a *squared error cost*:\n",
    "  $$J(w,b) = \\frac{1}{2m} \\sum\\limits_{i = 0}^{m-1} (f_{w,b}(x^{(i)}) - y^{(i)})^2 $$ \n",
    " \n",
    "where \n",
    "  $$f_{w,b}(x^{(i)}) = sigmoid(wx^{(i)} + b )$$\n"
   ]
  },
  {
   "cell_type": "code",
   "execution_count": 5,
   "metadata": {},
   "outputs": [
    {
     "data": {
      "application/vnd.jupyter.widget-view+json": {
       "model_id": "f7d3a5b4dfce47afb150053bf5e4bcfb",
       "version_major": 2,
       "version_minor": 0
      },
      "text/plain": [
       "Canvas(toolbar=Toolbar(toolitems=[('Home', 'Reset original view', 'home', 'home'), ('Back', 'Back to previous …"
      ]
     },
     "metadata": {},
     "output_type": "display_data"
    }
   ],
   "source": [
    "plt.close('all')\n",
    "plt_logistic_squared_error(x_train,y_train)\n",
    "plt.show()"
   ]
  },
  {
   "cell_type": "markdown",
   "metadata": {},
   "source": [
    "Trong khi điều này tạo ra một cốt truyện khá thú vị, bề mặt phía trên gần như không mịn như 'bát súp' từ hồi quy tuyến tính!\n",
    "\n",
    "Hồi quy hậu cần yêu cầu một hàm chi phí phù hợp hơn với bản chất phi tuyến tính của nó. Điều này bắt đầu với một chức năng Mất mát. Điều này được mô tả bên dưới."
   ]
  },
  {
   "cell_type": "markdown",
   "metadata": {},
   "source": [
    "## Logistic Loss Function\n",
    "<img align=\"left\" src=\"./images/C1_W3_LogisticLoss_a.png\"     style=\" width:250px; padding: 2px; \" >\n",
    "<img align=\"left\" src=\"./images/C1_W3_LogisticLoss_b.png\"     style=\" width:250px; padding: 2px; \" >\n",
    "<img align=\"left\" src=\"./images/C1_W3_LogisticLoss_c.png\"     style=\" width:250px; padding: 2px; \" > "
   ]
  },
  {
   "cell_type": "markdown",
   "metadata": {},
   "source": [
    "Hồi quy hậu cần sử dụng hàm mất phù hợp hơn với nhiệm vụ phân loại trong đó mục tiêu là 0 hoặc 1 thay vì bất kỳ số nào.\n",
    "\n",
    ">**Lưu ý định nghĩa:** Trong khóa học này, các định nghĩa này được sử dụng:\n",
    "\n",
    "**Mất** là thước đo sự khác biệt của một ví dụ duy nhất với giá trị mục tiêu của nó trong khi\n",
    "\n",
    "**Chi phí** là thước đo tổn thất trong bộ đào tạo\n",
    "This is defined: \n",
    "* $loss(f_{\\mathbf{w},b}(\\mathbf{x}^{(i)}), y^{(i)})$ is the cost for a single data point, which is:\n",
    "\n",
    "\\begin{equation}\n",
    "  loss(f_{\\mathbf{w},b}(\\mathbf{x}^{(i)}), y^{(i)}) = \\begin{cases}\n",
    "    - \\log\\left(f_{\\mathbf{w},b}\\left( \\mathbf{x}^{(i)} \\right) \\right) & \\text{if $y^{(i)}=1$}\\\\\n",
    "    - \\log \\left( 1 - f_{\\mathbf{w},b}\\left( \\mathbf{x}^{(i)} \\right) \\right) & \\text{if $y^{(i)}=0$}\n",
    "  \\end{cases}\n",
    "\\end{equation}\n",
    "\n",
    "\n",
    "*  $f_{\\mathbf{w},b}(\\mathbf{x}^{(i)})$ is the model's prediction, while $y^{(i)}$ is the target value.\n",
    "\n",
    "*  $f_{\\mathbf{w},b}(\\mathbf{x}^{(i)}) = g(\\mathbf{w} \\cdot\\mathbf{x}^{(i)}+b)$ where function $g$ is the sigmoid function.\n",
    "Đặc điểm xác định của hàm mất mát này là thực tế là nó sử dụng hai đường cong riêng biệt. Một cho trường hợp khi mục tiêu bằng 0 hoặc ($y = 0$) và một cho trường hợp khác khi mục tiêu bằng một ($y=1$). Kết hợp lại, các đường cong này cung cấp hành vi hữu ích cho hàm tổn thất, cụ thể là bằng 0 khi dự đoán khớp với mục tiêu và tăng giá trị nhanh khi dự đoán khác với mục tiêu. Hãy xem xét các đường cong bên dưới:"
   ]
  },
  {
   "cell_type": "code",
   "execution_count": 6,
   "metadata": {},
   "outputs": [
    {
     "data": {
      "application/vnd.jupyter.widget-view+json": {
       "model_id": "8981a347808146b491a3250d9446bea0",
       "version_major": 2,
       "version_minor": 0
      },
      "text/plain": [
       "Canvas(toolbar=Toolbar(toolitems=[('Home', 'Reset original view', 'home', 'home'), ('Back', 'Back to previous …"
      ]
     },
     "metadata": {},
     "output_type": "display_data"
    }
   ],
   "source": [
    "plt_two_logistic_loss_curves()"
   ]
  },
  {
   "cell_type": "markdown",
   "metadata": {},
   "source": [
    "Kết hợp lại, các đường cong tương tự như đường cong bậc hai của tổn thất lỗi bình phương. Lưu ý, trục x là $f_{\\mathbf{w},b}$ là đầu ra của một sigmoid. Đầu ra sigma hoàn toàn nằm trong khoảng từ 0 đến 1."
   ]
  },
  {
   "cell_type": "markdown",
   "metadata": {},
   "source": [
    "Hàm mất ở trên có thể được viết lại để dễ thực hiện hơn.    $$loss(f_{\\mathbf{w},b}(\\mathbf{x}^{(i)}), y^{(i)}) = (-y^{(i)} \\log\\left(f_{\\mathbf{w},b}\\left( \\mathbf{x}^{(i)} \\right) \\right) - \\left( 1 - y^{(i)}\\right) \\log \\left( 1 - f_{\\mathbf{w},b}\\left( \\mathbf{x}^{(i)} \\right) \\right)$$\n",
    "  \n",
    "Đây là một phương trình trông khá ghê gớm. Sẽ ít khó khăn hơn khi bạn xem xét $y^{(i)}$ chỉ có thể có hai giá trị, 0 và 1. Sau đó người ta có thể xem xét phương trình trong hai phần:when $ y^{(i)} = 0$, the left-hand term is eliminated:\n",
    "$$\n",
    "\\begin{align}\n",
    "loss(f_{\\mathbf{w},b}(\\mathbf{x}^{(i)}), 0) &= (-(0) \\log\\left(f_{\\mathbf{w},b}\\left( \\mathbf{x}^{(i)} \\right) \\right) - \\left( 1 - 0\\right) \\log \\left( 1 - f_{\\mathbf{w},b}\\left( \\mathbf{x}^{(i)} \\right) \\right) \\\\\n",
    "&= -\\log \\left( 1 - f_{\\mathbf{w},b}\\left( \\mathbf{x}^{(i)} \\right) \\right)\n",
    "\\end{align}\n",
    "$$\n",
    "and when $ y^{(i)} = 1$, the right-hand term is eliminated:\n",
    "$$\n",
    "\\begin{align}\n",
    "  loss(f_{\\mathbf{w},b}(\\mathbf{x}^{(i)}), 1) &=  (-(1) \\log\\left(f_{\\mathbf{w},b}\\left( \\mathbf{x}^{(i)} \\right) \\right) - \\left( 1 - 1\\right) \\log \\left( 1 - f_{\\mathbf{w},b}\\left( \\mathbf{x}^{(i)} \\right) \\right)\\\\\n",
    "  &=  -\\log\\left(f_{\\mathbf{w},b}\\left( \\mathbf{x}^{(i)} \\right) \\right)\n",
    "\\end{align}\n",
    "$$\n",
    "\n",
    "Được rồi, với chức năng tổn thất hậu cần mới này, một chức năng chi phí có thể được tạo ra kết hợp tổn thất từ tất cả các ví dụ. Đây sẽ là chủ đề của phòng thí nghiệm tiếp theo. Bây giờ, chúng ta hãy xem xét đường cong chi phí so với tham số cho ví dụ đơn giản mà chúng tôi đã xem xét ở trên:"
   ]
  },
  {
   "cell_type": "code",
   "execution_count": 7,
   "metadata": {},
   "outputs": [
    {
     "data": {
      "application/vnd.jupyter.widget-view+json": {
       "model_id": "289264f435aa46d09f9906ac900b53c9",
       "version_major": 2,
       "version_minor": 0
      },
      "text/plain": [
       "Canvas(toolbar=Toolbar(toolitems=[('Home', 'Reset original view', 'home', 'home'), ('Back', 'Back to previous …"
      ]
     },
     "metadata": {},
     "output_type": "display_data"
    }
   ],
   "source": [
    "plt.close('all')\n",
    "cst = plt_logistic_cost(x_train,y_train)"
   ]
  },
  {
   "cell_type": "markdown",
   "metadata": {},
   "source": [
    "Đường cong này rất phù hợp với độ dốc! Nó không có cao nguyên, mức tối thiểu địa phương hoặc sự gián đoạn. Lưu ý, nó không phải là một cái bát như trong trường hợp lỗi bình phương. Cả chi phí và nhật ký chi phí đều được vẽ để làm sáng tỏ thực tế rằng đường cong, khi chi phí nhỏ, có độ dốc và tiếp tục giảm. Nhắc nhở: bạn có thể xoay các ô trên bằng cách sử dụng chuột của mình."
   ]
  },
  {
   "cell_type": "markdown",
   "metadata": {},
   "source": [
    "## Chúc mừng!\n",
    "\n",
    "Bạn có:\n",
    "\n",
    "- xác định hàm mất lỗi bình phương không phù hợp với các nhiệm vụ phân loại\n",
    "\n",
    "- đã phát triển và kiểm tra chức năng tổn thất hậu cần **là** phù hợp cho các nhiệm vụ phân loại."
   ]
  },
  {
   "cell_type": "code",
   "execution_count": null,
   "metadata": {},
   "outputs": [],
   "source": []
  }
 ],
 "metadata": {
  "kernelspec": {
   "display_name": "Python 3",
   "language": "python",
   "name": "python3"
  },
  "language_info": {
   "codemirror_mode": {
    "name": "ipython",
    "version": 3
   },
   "file_extension": ".py",
   "mimetype": "text/x-python",
   "name": "python",
   "nbconvert_exporter": "python",
   "pygments_lexer": "ipython3",
   "version": "3.7.6"
  },
  "toc-showcode": true
 },
 "nbformat": 4,
 "nbformat_minor": 5
}
