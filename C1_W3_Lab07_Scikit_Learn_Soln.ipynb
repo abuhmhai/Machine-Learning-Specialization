{
 "cells": [
  {
   "cell_type": "markdown",
   "id": "37f746c0",
   "metadata": {},
   "source": [
    "# Phòng thí nghiệm chưa được phân loại: Hồi quy hậu cần sử dụng Scikit-Learn"
   ]
  },
  {
   "cell_type": "markdown",
   "id": "37731515",
   "metadata": {},
   "source": [
    "## Mục tiêu\n",
    "\n",
    "Trong phòng thí nghiệm này bạn sẽ:\n",
    "\n",
    "- Đào tạo mô hình hồi quy logistic bằng cách sử dụng scikit-learn."
   ]
  },
  {
   "cell_type": "markdown",
   "id": "60f04dca",
   "metadata": {},
   "source": [
    "## Tập dữ liệu\n",
    "\n",
    "Hãy bắt đầu với cùng một tập dữ liệu như trước đây."
   ]
  },
  {
   "cell_type": "code",
   "execution_count": 1,
   "id": "fadd6599",
   "metadata": {},
   "outputs": [],
   "source": [
    "import numpy as np\n",
    "\n",
    "X = np.array([[0.5, 1.5], [1,1], [1.5, 0.5], [3, 0.5], [2, 2], [1, 2.5]])\n",
    "y = np.array([0, 0, 0, 1, 1, 1])"
   ]
  },
  {
   "cell_type": "markdown",
   "id": "339c271c",
   "metadata": {},
   "source": [
    "## Phù hợp với mô hình\n",
    "\n",
    "Mã bên dưới nhập [mô hình hồi quy logistic] (https://scikit-learn.org/stable/modules/generated/sklearn.linear_model.LogisticRegression.html#sklearn.linear_model.LogisticRegression) từ scikit-learn. Bạn có thể lắp mô hình này vào dữ liệu đào tạo bằng cách gọi hàm `fit`."
   ]
  },
  {
   "cell_type": "code",
   "execution_count": 2,
   "id": "f7f236e3",
   "metadata": {},
   "outputs": [
    {
     "data": {
      "text/plain": [
       "LogisticRegression(C=1.0, class_weight=None, dual=False, fit_intercept=True,\n",
       "                   intercept_scaling=1, l1_ratio=None, max_iter=100,\n",
       "                   multi_class='auto', n_jobs=None, penalty='l2',\n",
       "                   random_state=None, solver='lbfgs', tol=0.0001, verbose=0,\n",
       "                   warm_start=False)"
      ]
     },
     "execution_count": 2,
     "metadata": {},
     "output_type": "execute_result"
    }
   ],
   "source": [
    "from sklearn.linear_model import LogisticRegression\n",
    "\n",
    "lr_model = LogisticRegression()\n",
    "lr_model.fit(X, y)"
   ]
  },
  {
   "cell_type": "markdown",
   "id": "c05b4a04",
   "metadata": {},
   "source": [
    "## Đưa ra dự đoán\n",
    "\n",
    "Bạn có thể thấy các dự đoán được thực hiện bởi mô hình này bằng cách gọi hàm `predict`."
   ]
  },
  {
   "cell_type": "code",
   "execution_count": 3,
   "id": "e527635e",
   "metadata": {},
   "outputs": [
    {
     "name": "stdout",
     "output_type": "stream",
     "text": [
      "Prediction on training set: [0 0 0 1 1 1]\n"
     ]
    }
   ],
   "source": [
    "y_pred = lr_model.predict(X)\n",
    "\n",
    "print(\"Prediction on training set:\", y_pred)"
   ]
  },
  {
   "cell_type": "markdown",
   "id": "c2296e38",
   "metadata": {},
   "source": [
    "## Tính toán độ chính xác\n",
    "\n",
    "Bạn có thể tính toán độ chính xác này của mô hình này bằng cách gọi hàm `score`."
   ]
  },
  {
   "cell_type": "code",
   "execution_count": 4,
   "id": "ddda03f0",
   "metadata": {},
   "outputs": [
    {
     "name": "stdout",
     "output_type": "stream",
     "text": [
      "Accuracy on training set: 1.0\n"
     ]
    }
   ],
   "source": [
    "print(\"Accuracy on training set:\", lr_model.score(X, y))"
   ]
  }
 ],
 "metadata": {
  "kernelspec": {
   "display_name": "Python 3 (ipykernel)",
   "language": "python",
   "name": "python3"
  },
  "language_info": {
   "codemirror_mode": {
    "name": "ipython",
    "version": 3
   },
   "file_extension": ".py",
   "mimetype": "text/x-python",
   "name": "python",
   "nbconvert_exporter": "python",
   "pygments_lexer": "ipython3",
   "version": "3.11.5"
  }
 },
 "nbformat": 4,
 "nbformat_minor": 5
}
